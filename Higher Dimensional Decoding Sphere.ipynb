{
 "cells": [
  {
   "cell_type": "code",
   "execution_count": 35,
   "id": "46e22df8-6f7e-4726-b2aa-043898cc1196",
   "metadata": {},
   "outputs": [
    {
     "name": "stdout",
     "output_type": "stream",
     "text": [
      "The autoreload extension is already loaded. To reload it, use:\n",
      "  %reload_ext autoreload\n"
     ]
    }
   ],
   "source": [
    "%load_ext autoreload\n",
    "%autoreload 2\n",
    "\n",
    "import torch\n",
    "\n",
    "from data.generation import InjectiveLinearDecoder\n",
    "from spaces import NSphereSpace\n",
    "from encoders import construct_mlp_encoder\n",
    "\n",
    "from simclr.simclr import SimCLR\n",
    "\n",
    "from visualization_utils.spheres import visualize_spheres_side_by_side\n",
    "import matplotlib.pyplot as plt"
   ]
  },
  {
   "cell_type": "code",
   "execution_count": null,
   "id": "0ac9b812-f45f-44aa-a229-d0a481a71375",
   "metadata": {},
   "outputs": [
    {
     "name": "stdout",
     "output_type": "stream",
     "text": [
      "Loss: 8.723377227783203 Samples processed: 1\n",
      "Loss: 8.639740943908691 Samples processed: 251\n",
      "Loss: 8.635331153869629 Samples processed: 501\n"
     ]
    }
   ],
   "source": [
    "# Training an encoder where we map from Sphere to R^4 injectively and then map back to the sphere\n",
    "\n",
    "latent_dim = 3\n",
    "data_dim = 4\n",
    "kappa = tau = 10\n",
    "\n",
    "iterations = 2000\n",
    "batch = 6144\n",
    "\n",
    "sphere = NSphereSpace(latent_dim)\n",
    "g = InjectiveLinearDecoder(latent_dim, data_dim)\n",
    "f = construct_mlp_encoder(data_dim, latent_dim)\n",
    "\n",
    "sample_pair_fixed = lambda batch: sphere.sample_pair_vmf(batch, kappa)\n",
    "sample_uniform_fixed = lambda batch: sphere.uniform(batch)\n",
    "\n",
    "simclr = SimCLR(\n",
    "    f, g, sample_pair_fixed, sample_uniform_fixed, tau\n",
    ")\n",
    "\n",
    "f = simclr.train(batch, iterations)\n",
    "\n",
    "h = lambda latent: f(g(z))\n",
    "\n",
    "z = sphere.uniform(1000)\n",
    "z_enc = h(z)\n",
    "\n",
    "visualize_spheres_side_by_side(plt, z, z_enc)"
   ]
  }
 ],
 "metadata": {
  "kernelspec": {
   "display_name": "Python 3 (ipykernel)",
   "language": "python",
   "name": "python3"
  },
  "language_info": {
   "codemirror_mode": {
    "name": "ipython",
    "version": 3
   },
   "file_extension": ".py",
   "mimetype": "text/x-python",
   "name": "python",
   "nbconvert_exporter": "python",
   "pygments_lexer": "ipython3",
   "version": "3.11.11"
  }
 },
 "nbformat": 4,
 "nbformat_minor": 5
}
