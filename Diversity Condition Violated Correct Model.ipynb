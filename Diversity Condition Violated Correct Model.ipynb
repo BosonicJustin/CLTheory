{
 "cells": [
  {
   "cell_type": "markdown",
   "id": "b93c5030",
   "metadata": {},
   "source": [
    "# Diversity Condition Violated Correct Model\n",
    "\n",
    "This is a notebook that performs the experiment when the diversity condition is violated and we select a correct model to adjust for that.\n",
    "\n",
    "- $p(\\tilde{z}|z) = \\delta(u - u') \\frac{e^{\\kappa}\\tilde{z}^{T}z}{\\int_{W(z)}e^{\\kappa z^{T}z'}dz'}$ - model conditional density\n",
    "- $q_{h}(\\tilde{z}|z) = \\delta(u-u') \\frac{e^{\\frac{1}{\\tau} h(\\tilde{z})^{T}h(z)}}{\\int_{W(z)}e^{\\frac{1}{\\tau}h(z)^{T}h(z')}dz'}$ - Model conditional density\n",
    "\n",
    "The loss function in this setup will be the following:\n",
    "\n",
    "$\\mathcal{L} = \\mathbb{E}_{(z, \\tilde{z}) \\sim p(z, \\tilde{z}), \\{z^{-}_{i}\\} \\sim U(\\mathcal{W}(z)) }[- \\log(\\frac{e^{\\frac{1}{\\tau}h(\\tilde{z})^{T}h(z)}}{\\Sigma_{i=1}^{M}e^{\\frac{1}{\\tau} h(\\tilde{z})^{T}h(z^{-}_{i})}})]$\n"
   ]
  },
  {
   "cell_type": "code",
   "execution_count": null,
   "id": "92952207",
   "metadata": {
    "vscode": {
     "languageId": "plaintext"
    }
   },
   "outputs": [],
   "source": []
  },
  {
   "cell_type": "markdown",
   "id": "0972ee0c",
   "metadata": {},
   "source": []
  }
 ],
 "metadata": {
  "language_info": {
   "name": "python"
  }
 },
 "nbformat": 4,
 "nbformat_minor": 5
}
