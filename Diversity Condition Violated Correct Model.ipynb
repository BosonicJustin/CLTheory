{
 "cells": [
  {
   "cell_type": "markdown",
   "id": "b93c5030",
   "metadata": {},
   "source": [
    "# Diversity Condition Violated Correct Model\n",
    "\n",
    "This is a notebook that performs the experiment when the diversity condition is violated and we select a correct model to adjust for that.\n",
    "\n",
    "- $p(\\tilde{z}|z) = \\delta(u - u') \\frac{e^{\\kappa}\\tilde{z}^{T}z}{\\int_{W(z)}e^{\\kappa z^{T}z'}dz'}$ - model conditional density\n",
    "- $q_{h}(\\tilde{z}|z) = \\delta(u-u') \\frac{e^{\\frac{1}{\\tau} h(\\tilde{z})^{T}h(z)}}{\\int_{W(z)}e^{\\frac{1}{\\tau}h(z)^{T}h(z')}dz'}$ - Model conditional density\n",
    "\n",
    "The loss function in this setup will be the following:\n",
    "\n",
    "$\\mathcal{L} = \\mathbb{E}_{(z, \\tilde{z}) \\sim p(z, \\tilde{z}), \\{z^{-}_{i}\\} \\sim U(\\mathcal{W}(z)) }[- \\log(\\frac{e^{\\frac{1}{\\tau}h(\\tilde{z})^{T}h(z)}}{\\Sigma_{i=1}^{M}e^{\\frac{1}{\\tau} h(\\tilde{z})^{T}h(z^{-}_{i})}})]$\n"
   ]
  },
  {
   "cell_type": "code",
   "execution_count": 130,
   "id": "92952207",
   "metadata": {},
   "outputs": [
    {
     "name": "stdout",
     "output_type": "stream",
     "text": [
      "The autoreload extension is already loaded. To reload it, use:\n",
      "  %reload_ext autoreload\n",
      "(tensor(10.1420), tensor(9.9930), tensor(0.1490))\n"
     ]
    }
   ],
   "source": [
    "%load_ext autoreload\n",
    "%autoreload 2\n",
    "\n",
    "import torch\n",
    "\n",
    "N, M, d, d_fix = 100, 100, 5, 2\n",
    "\n",
    "Z = torch.randn(N, d)\n",
    "Z = Z / Z.norm(dim=1, keepdim=True)\n",
    "\n",
    "# z_fixed = Z[:, :d_fix]\n",
    "# z_var = Z[:, d_fix:]\n",
    "\n",
    "# radii = torch.sqrt(1 - z_fixed.norm(dim=1) ** 2) # Compute subspace radii for each negative sample\n",
    "\n",
    "# neg_samples = torch.randn(N, M, d - d_fix)\n",
    "# neg_samples = neg_samples / neg_samples.norm(dim=2, keepdim=True)  # Normalize to 1\n",
    "\n",
    "# neg_samples = neg_samples * radii.view(-1, 1, 1)\n",
    "# neg_samples = torch.cat((z_fixed.unsqueeze(1).expand(-1, M, -1), neg_samples), dim=2)\n",
    "\n",
    "# Sampling negative samples in the case where the model of the latent space has violated diversity condition, but our model adjusts for that\n",
    "def sample_negative_samples(Z, M):\n",
    "    z_fixed = Z[:, :d_fix]\n",
    "\n",
    "    radii = torch.sqrt(1 - (z_fixed ** 2).sum(dim=1) )\n",
    "    neg_samples = torch.randn(N, M, d - d_fix)\n",
    "    neg_samples = neg_samples / (neg_samples.norm(dim=2, keepdim=True) + 0.1)\n",
    "    neg_samples = neg_samples * radii.view(-1, 1, 1)\n",
    "\n",
    "    return torch.cat((z_fixed.unsqueeze(1).expand(-1, M, -1), neg_samples), dim=2)\n",
    "\n",
    "\n",
    "def compute_loss(Z, Z_pos, M, tau = 0.1):\n",
    "    Z_n = sample_negative_samples(Z, M)\n",
    "    neg = torch.logsumexp((Z.unsqueeze(1) * Z_n).sum(dim=2) / tau, dim=1).mean()\n",
    "    pos = - (Z * Z_pos).sum(dim=1).mean() / tau\n",
    "\n",
    "    return neg + pos, neg, pos\n",
    "\n",
    "\n",
    "# Normalize both inputs\n",
    "Z_input = torch.randn(N, d)\n",
    "Z_input = Z_input / Z_input.norm(dim=1, keepdim=True)\n",
    "\n",
    "Z_pos_input = torch.randn(N, d)\n",
    "Z_pos_input = Z_pos_input / Z_pos_input.norm(dim=1, keepdim=True)\n",
    "\n",
    "print(compute_loss(Z_input, Z_pos_input, 1000, tau=0.2))\n",
    "\n",
    "\n",
    "\n"
   ]
  },
  {
   "cell_type": "code",
   "execution_count": null,
   "id": "da494eac",
   "metadata": {},
   "outputs": [],
   "source": []
  },
  {
   "cell_type": "code",
   "execution_count": null,
   "id": "ec3c6a11",
   "metadata": {},
   "outputs": [],
   "source": []
  }
 ],
 "metadata": {
  "kernelspec": {
   "display_name": "default",
   "language": "python",
   "name": "python3"
  },
  "language_info": {
   "codemirror_mode": {
    "name": "ipython",
    "version": 3
   },
   "file_extension": ".py",
   "mimetype": "text/x-python",
   "name": "python",
   "nbconvert_exporter": "python",
   "pygments_lexer": "ipython3",
   "version": "3.10.17"
  }
 },
 "nbformat": 4,
 "nbformat_minor": 5
}
